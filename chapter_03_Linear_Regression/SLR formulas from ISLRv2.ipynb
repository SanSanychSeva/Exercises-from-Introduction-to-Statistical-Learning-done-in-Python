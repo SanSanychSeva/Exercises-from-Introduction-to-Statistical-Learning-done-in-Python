{
 "cells": [
  {
   "cell_type": "markdown",
   "id": "1089e1b9",
   "metadata": {},
   "source": [
    "# Formulas for Simple Linear Regression (SLR)\n",
    "\n",
    "## True nature of X and Y\n",
    "we suppose that there is a true linear dependence between X and Y, which is noted like this ($\\approx$ is to be read like *approximately modeled as*):\n",
    "\n",
    "$$ Y\\ \\approx\\ \\beta_0 + \\beta_1\\cdot X \n",
    "\\,\\,\\,\\,\\,\\,\\,\\,\\,\\,\\,\\,\\,\\,\\,\\,\\,\\,\\,\\,\\,\\,\\,\\,\\,\\,\\,\\,\\,\\,\\,\\,\\,\\,\\,\\,\\,\\,\\,\\,\\,\\,\\,\\,\\,\\,\\,\\,\\, \n",
    "\\mbox{(3.1)}_{\\,ISLR\\,2} ,$$ \n",
    "\n",
    "or also:\n",
    "\n",
    "$$ Y\\ =\\ \\beta_0 + \\beta_1\\cdot X + \\varepsilon\n",
    "\\,\\,\\,\\,\\,\\,\\,\\,\\,\\,\\,\\,\\,\\,\\,\\,\\,\\,\\,\\,\\,\\,\\,\\,\\,\\,\\,\\,\\,\\,\\,\\,\\,\\,\\,\\,\\,\\,\\,\\,\\,\n",
    "\\mbox{(3.5)}_{\\,ISLR\\,2} ,$$ \n",
    "\n",
    "where $ \\frac{1}{N}\\sum_{i=1}^N \\varepsilon_i  \\mathop{\\longrightarrow}\\limits_{N\\to\\infty}0 $ or $ E\\varepsilon = 0 $ ( $E\\varepsilon$ here stands for *mathematical expectation of random value $\\varepsilon$*, sampled as $\\{\\varepsilon_i\\}$ for $i\\in\\{1,2\\ldots N\\}$ )\n",
    "\n",
    "**NB!: actually the existance of such truly linear dependence is not mandatory for the SLR formulas below to be valid !**\n",
    "So the formulas shall be correct anyway, but the prediction given by SLR model shall be less useful (less exact) if there are no such linearity behind the obtained samples."
   ]
  },
  {
   "cell_type": "markdown",
   "id": "7db7bb07",
   "metadata": {},
   "source": [
    "## Regressing Y onto X\n",
    "by using \"`^`\" on top of value to mean \"`estimated (by the prediction model)`\" we can say for a **sample**: \n",
    "\n",
    "$$ \\begin{array}{ll}\n",
    "\\mbox{for any sample}\\,(x_i,y_i),\\, &\\mbox{where}\\, i\\in\\{1,2,\\ldots n\\} \\\\\n",
    "y_i\\, =\\, \\hat\\beta_0 + \\hat\\beta_1\\cdot x_i + \\hat\\epsilon_i, &\\mbox{where}\\,\\{\\hat\\epsilon_i\\}\\,\\mbox{are called \"residuals\"} \\\\\n",
    "\\hat y_i\\, =\\, \\hat\\beta_0 + \\hat\\beta_1\\cdot x_i, &\\mbox{being the predicted part of $y_i$ for each $i$} \\\\\n",
    "\\end{array} $$\n",
    "\n",
    "**$\\{\\hat y_i\\}$ indicates a prediction of Y on the basis of X sampled by $\\{x_i\\}$:**\n",
    "\n",
    "$$ \\hat y_i\\, \\stackrel{def}{=}\\, \\hat\\beta_0 + \\hat\\beta_1\\cdot x_i \n",
    "\\,\\,\\,\\,\\,\\,\\,\\,\\,\\,\\,\\,\\,\\,\\,\\,\\,\\,\\,\\,\\,\\,\\,\\,\\,\\,\\,\\,\\,\\,\\,\\,\\,\\,\\,\\,\\,\\,\\,\\,\\,\\,\\,\\,\\,\\,\\,\\,\\, \n",
    "\\mbox{(3.2)}_{\\,ISLR\\,2} $$"
   ]
  },
  {
   "cell_type": "markdown",
   "id": "af259801",
   "metadata": {},
   "source": [
    "## Residual Sum of Squares `RSS`\n",
    "\n",
    "$$\n",
    "\\mbox{RSS}\\,=\\,\n",
    "\\sum_{i=1}^n \\hat\\epsilon_i^2\\,=\\,\n",
    "\\sum_{i=1}^n (y_i-\\hat y_i)^2\\,=\\,\n",
    "\\sum_{i=1}^n (y_i - \\hat\\beta_0 + \\hat\\beta_1\\cdot x_i)^2\n",
    "\\,\\,\\,\\,\\,\\,\\,\\,\\,\\,\\,\\,\\,\\,\\,\\,\\,\\,\\,\\, \n",
    "\\mbox{(3.3)}_{\\,ISLR\\,2} \n",
    "$$\n",
    "\n",
    "### Optimization criteria for SLR \n",
    "**is in finding $\\hat\\beta_0$ and $\\hat\\beta_1$ delivering minimum to RSS on a given sample**"
   ]
  },
  {
   "cell_type": "markdown",
   "id": "db22f047",
   "metadata": {},
   "source": [
    "## Analytical formulas for `SLR coefficients`\n",
    "by using \"`-`\" on top of value to mean \"`mean value over the sample`\", that is:\n",
    "\n",
    "$$\n",
    "\\bar x\\, \\stackrel{def}{=}\\, \\sum_{i=1}^n x_i\\,\\,\\,\\,\\,\\mbox{and}\\,\\,\\,\\,\\,\\bar y\\, \\stackrel{def}{=}\\, \\sum_{i=1}^n y_i\n",
    "$$\n",
    "\n",
    "we can derive from optimum conditions  $ \\Bigl( \\frac{\\partial}{\\partial\\beta_k}\\, \\mbox{RSS}\\,=\\,0$ , for $k\\in \\{0,1\\} \\Bigr) $  that:"
   ]
  },
  {
   "cell_type": "markdown",
   "id": "2909e91c",
   "metadata": {},
   "source": [
    "$$ \\left\\{\n",
    "\\begin{eqnarray}\n",
    "\\,\\hat\\beta_0 &=& \\bar y - \\hat\\beta_1\\cdot\\bar x \\\\\n",
    "\\,\\hat\\beta_1 &=& \\frac\n",
    "{\\sum_{i=1}^n (x_i-\\bar x_i)(y_i-\\bar y_i)}\n",
    "{\\sum_{i=1}^n (x_i-\\bar x_i)^2} & \\\\\n",
    "\\end{eqnarray} \n",
    "\\right. \n",
    "\\,\\,\\,\\,\\,\\,\\,\\,\\,\\,\\,\\,\\,\\,\\,\\,\\,\\,\\,\\,\\,\\,\\,\\,\\,\\,\\,\\,\\,\\,\\,\\,\\,\\,\\,\\,\\,\\,\\,\\,\\,\\,\\,\\,\\,\\,\\,\\,\\, \n",
    "\\mbox{(3.4)}_{\\,ISLR\\,2}$$"
   ]
  },
  {
   "cell_type": "markdown",
   "id": "5b687b70",
   "metadata": {},
   "source": [
    "### Some universal invariants to be derived from optimisation criteria for SLR \n",
    "\n",
    "#### mean of residuals is exact zero\n",
    "let's sum all residuals:\n",
    "\n",
    "$$\n",
    "\\sum_{i=1}^n \\hat\\epsilon_i = \\sum_{i=1}^n (y_i - \\hat\\beta_0 - \\hat\\beta_1\\cdot x_i) = n\\bar y - n\\hat\\beta_o - \\hat\\beta_1\\cdot n\\bar x = n\\cdot\\underbrace{(\\bar y - \\hat\\beta_0 - \\hat\\beta_1\\cdot\\bar x)}_{0}\n",
    "\\, ,$$\n",
    "\n",
    "and the expression in the round brackets above is exactly zero - because of first equation of system (3.4)"
   ]
  },
  {
   "cell_type": "markdown",
   "id": "93e8c168",
   "metadata": {},
   "source": [
    "#### multiplication of $\\beta_1$ for regressions of Y onto X and X onto Y `for same sample` is exactly equal to squared correlator of X and Y\n",
    "let's use the notation for the reversed regression as follows:\n",
    "\n",
    "$$\n",
    "x_i = \\hat\\beta_0^{(-1)} + \\hat\\beta_1^{(-1)}\\cdot y_i + \\hat\\epsilon_i^{(-1)} ,\n",
    "$$\n",
    "\n",
    "**NB!: here the superscript `(-1)` does not mean power of `-1`, but means coefficients for reversed regression of X onto Y**.  \n",
    "Although for $\\hat\\beta_1$ we intuitively expect to see something like $\\hat\\beta_1^{(-1)} = 1/\\hat\\beta$.\n",
    "\n",
    "Then multiplying $\\beta_1$ for regressions of Y onto X and X onto Y **for same sample** (which means same $x_i$ and $y_i$) we easily get:\n",
    "\n",
    "$$\n",
    "\\,\\hat\\beta_1\\cdot\\hat\\beta_1^{(-1)} \\,=\\, \\frac\n",
    "{\\Bigl(\\sum_{i=1}^n (x_i-\\bar x_i)(y_i-\\bar y_i)\\Bigr)^2}\n",
    "{\\Bigl(\\sum_{i=1}^n (x_i-\\bar x_i)^2\\Bigr)\\cdot\\Bigl(\\sum_{i=1}^n (y_i-\\bar y_i)^2\\Bigr)}\n",
    "\\,=\\, \\Bigl(\\mbox{corr (X,Y)}\\Bigr)^2\n",
    "$$"
   ]
  },
  {
   "cell_type": "code",
   "execution_count": null,
   "id": "4577bbdf",
   "metadata": {},
   "outputs": [],
   "source": []
  }
 ],
 "metadata": {
  "kernelspec": {
   "display_name": "Python 3 (ipykernel)",
   "language": "python",
   "name": "python3"
  },
  "language_info": {
   "codemirror_mode": {
    "name": "ipython",
    "version": 3
   },
   "file_extension": ".py",
   "mimetype": "text/x-python",
   "name": "python",
   "nbconvert_exporter": "python",
   "pygments_lexer": "ipython3",
   "version": "3.9.12"
  },
  "toc": {
   "base_numbering": 1,
   "nav_menu": {},
   "number_sections": true,
   "sideBar": true,
   "skip_h1_title": false,
   "title_cell": "Table of Contents",
   "title_sidebar": "Contents",
   "toc_cell": false,
   "toc_position": {
    "height": "calc(100% - 180px)",
    "left": "10px",
    "top": "150px",
    "width": "299.513px"
   },
   "toc_section_display": true,
   "toc_window_display": true
  }
 },
 "nbformat": 4,
 "nbformat_minor": 5
}
