{
 "cells": [
  {
   "cell_type": "markdown",
   "id": "167f94e5",
   "metadata": {
    "toc": true
   },
   "source": [
    "<h1>Table of Contents<span class=\"tocSkip\"></span></h1>\n",
    "<div class=\"toc\"><ul class=\"toc-item\"><li><span><a href=\"#Text-of-exercise-13-chapter-3-ISLRv2-book\" data-toc-modified-id=\"Text-of-exercise-13-chapter-3-ISLRv2-book-1\"><span class=\"toc-item-num\">1&nbsp;&nbsp;</span>Text of exercise 13 chapter 3 ISLRv2 book</a></span></li><li><span><a href=\"#items-a-&amp;-b-&amp;-c-&amp;-d---data-generation-and-plotting\" data-toc-modified-id=\"items-a-&amp;-b-&amp;-c-&amp;-d---data-generation-and-plotting-2\"><span class=\"toc-item-num\">2&nbsp;&nbsp;</span>items a &amp; b &amp; c &amp; d - data generation and plotting</a></span><ul class=\"toc-item\"><li><span><a href=\"#Conclusions:\" data-toc-modified-id=\"Conclusions:-2.1\"><span class=\"toc-item-num\">2.1&nbsp;&nbsp;</span>Conclusions:</a></span></li></ul></li><li><span><a href=\"#Functions-for-used-statistical-formulas\" data-toc-modified-id=\"Functions-for-used-statistical-formulas-3\"><span class=\"toc-item-num\">3&nbsp;&nbsp;</span>Functions for used statistical formulas</a></span></li><li><span><a href=\"#item-e:-simple-linear-regression-of-Y-onto-X-(SLR):\" data-toc-modified-id=\"item-e:-simple-linear-regression-of-Y-onto-X-(SLR):-4\"><span class=\"toc-item-num\">4&nbsp;&nbsp;</span>item e: simple linear regression of <code>Y</code> onto <code>X</code> (SLR):</a></span><ul class=\"toc-item\"><li><span><a href=\"#Conclusions:\" data-toc-modified-id=\"Conclusions:-4.1\"><span class=\"toc-item-num\">4.1&nbsp;&nbsp;</span>Conclusions:</a></span></li></ul></li><li><span><a href=\"#item-f:-plot-regression-line-versus-true-f(x)-line-on-the-data-plots\" data-toc-modified-id=\"item-f:-plot-regression-line-versus-true-f(x)-line-on-the-data-plots-5\"><span class=\"toc-item-num\">5&nbsp;&nbsp;</span>item f: plot regression line versus true f(x) line on the data plots</a></span></li><li><span><a href=\"#item-g:-adding-quadratic-term\" data-toc-modified-id=\"item-g:-adding-quadratic-term-6\"><span class=\"toc-item-num\">6&nbsp;&nbsp;</span>item g: adding quadratic term</a></span><ul class=\"toc-item\"><li><span><a href=\"#Conclusions:\" data-toc-modified-id=\"Conclusions:-6.1\"><span class=\"toc-item-num\">6.1&nbsp;&nbsp;</span>Conclusions:</a></span></li></ul></li><li><span><a href=\"#item-h-&amp;-i:-compare-with-twice-less-and-twice-more-noisy-data\" data-toc-modified-id=\"item-h-&amp;-i:-compare-with-twice-less-and-twice-more-noisy-data-7\"><span class=\"toc-item-num\">7&nbsp;&nbsp;</span>item h &amp; i: compare with twice less and twice more noisy data</a></span><ul class=\"toc-item\"><li><span><a href=\"#Conclusions:\" data-toc-modified-id=\"Conclusions:-7.1\"><span class=\"toc-item-num\">7.1&nbsp;&nbsp;</span>Conclusions:</a></span></li></ul></li><li><span><a href=\"#item-j:-compare-confidence-interval\" data-toc-modified-id=\"item-j:-compare-confidence-interval-8\"><span class=\"toc-item-num\">8&nbsp;&nbsp;</span>item j: compare confidence interval</a></span></li><li><span><a href=\"#Conclusions:\" data-toc-modified-id=\"Conclusions:-9\"><span class=\"toc-item-num\">9&nbsp;&nbsp;</span>Conclusions:</a></span></li><li><span><a href=\"#<<<-END-OF-DOCUMENT->>>\" data-toc-modified-id=\"<<<-END-OF-DOCUMENT->>>-10\"><span class=\"toc-item-num\">10&nbsp;&nbsp;</span>&lt;&lt;&lt; END OF DOCUMENT &gt;&gt;&gt;</a></span></li></ul></div>"
   ]
  },
  {
   "cell_type": "markdown",
   "id": "664bc995",
   "metadata": {},
   "source": [
    "# Text of exercise 13 chapter 3 ISLRv2 book\n",
    "\n",
    "In this exercise you will create some simulated data and will fit simple linear regression models to it.\n",
    "\n",
    "(a) Using the `rnorm()` function, create a vector `x`, containing 100 observations drawn from a $N(0, 1)$ distribution. This represents a feature, $X$.\n",
    "\n",
    "(b) Using the `rnorm()` function, create a vector `eps`, containing 100 observations drawn from a $N(0, 0.25)$ distribution — a normal distribution with mean zero and variance 0.25.\n",
    "\n",
    "(c) Using `x` and `eps`, generate a vector `y` according to the model \n",
    "$$ Y = −1 + 0.5X + \\epsilon. \\,\\,\\,\\,\\,\\,\\,\\,\\,\\,\\,\\,\\,\\,\\,\\,\\,\\,\\,\\,\\,\\,\\,(3.39) $$\n",
    "What is the length of the vector `y`? What are the values of $\\beta_0$ and $\\beta_1$ in this linear model?\n",
    "\n",
    "(d) Create a scatterplot displaying the relationship between `x` and `y`. Comment on what you observe.\n",
    "\n",
    "(e) Fit a least squares linear model to predict `y` using `x`. Comment on the model obtained. How do $\\hat\\beta_0$ and $\\hat\\beta_1$ compare to $\\beta_0$ and $\\beta_1$?\n",
    "\n",
    "(f) Display the least squares line on the scatterplot obtained in (d). Draw the population regression line on the plot, in a different color. Use the `legend()` command to create an appropriate legend.\n",
    "\n",
    "(g) Now fit a polynomial regression model that predicts `y` using $x$ and $x^2$. Is there evidence that the quadratic term improves the model fit? Explain your answer.\n",
    "\n",
    "(h) Repeat (a)–(f) after modifying the data generation process in such a way that there is less noise in the data. The model (3.39) should remain the same. You can do this by decreasing the variance of the normal distribution used to generate the error term `ϵ` in (b). Describe your results.\n",
    "\n",
    "(i) Repeat (a)–(f) after modifying the data generation process in such a way that there is more noise in the data. The model (3.39) should remain the same. You can do this by increasing the variance of the normal distribution used to generate the error term `ϵ` in (b). Describe your results.\n",
    "\n",
    "(j) What are the confidence intervals for $\\beta_0$ and $\\beta_1$ based on the original data set, the noisier data set, and the less noisy data set? Comment on your results.\n",
    "\n",
    "\n",
    "\\*) **ISLRv2** stands for: **An Introduction to Statistical Learning book by Gareth James, Daniela Witten, Trevor Hastie, Robert Tibshirani**"
   ]
  },
  {
   "cell_type": "code",
   "execution_count": 1,
   "id": "4e479605",
   "metadata": {},
   "outputs": [],
   "source": [
    "import datetime as dt\n",
    "start_run = dt.datetime.now()\n",
    "\n",
    "import math\n",
    "import pandas as pd\n",
    "import numpy as np\n",
    "import scipy.stats as statmath \n",
    "from sklearn import linear_model\n",
    "from sklearn.metrics import mean_squared_error, r2_score\n",
    "\n",
    "import seaborn as sns\n",
    "import matplotlib.pyplot as plt"
   ]
  },
  {
   "cell_type": "markdown",
   "id": "e8ea41b4",
   "metadata": {},
   "source": [
    "# items a & b & c & d - data generation and plotting"
   ]
  },
  {
   "cell_type": "code",
   "execution_count": 2,
   "id": "9d9f7d54",
   "metadata": {},
   "outputs": [
    {
     "name": "stdout",
     "output_type": "stream",
     "text": [
      "<class 'pandas.core.frame.DataFrame'>\n",
      "RangeIndex: 100 entries, 0 to 99\n",
      "Data columns (total 2 columns):\n",
      " #   Column  Non-Null Count  Dtype  \n",
      "---  ------  --------------  -----  \n",
      " 0   X       100 non-null    float64\n",
      " 1   Y       100 non-null    float64\n",
      "dtypes: float64(2)\n",
      "memory usage: 1.7 KB\n"
     ]
    },
    {
     "data": {
      "text/html": [
       "<div>\n",
       "<style scoped>\n",
       "    .dataframe tbody tr th:only-of-type {\n",
       "        vertical-align: middle;\n",
       "    }\n",
       "\n",
       "    .dataframe tbody tr th {\n",
       "        vertical-align: top;\n",
       "    }\n",
       "\n",
       "    .dataframe thead th {\n",
       "        text-align: right;\n",
       "    }\n",
       "</style>\n",
       "<table border=\"1\" class=\"dataframe\">\n",
       "  <thead>\n",
       "    <tr style=\"text-align: right;\">\n",
       "      <th></th>\n",
       "      <th>X</th>\n",
       "      <th>Y</th>\n",
       "    </tr>\n",
       "  </thead>\n",
       "  <tbody>\n",
       "    <tr>\n",
       "      <th>0</th>\n",
       "      <td>-0.852911</td>\n",
       "      <td>-1.323541</td>\n",
       "    </tr>\n",
       "    <tr>\n",
       "      <th>1</th>\n",
       "      <td>0.818232</td>\n",
       "      <td>-0.602689</td>\n",
       "    </tr>\n",
       "    <tr>\n",
       "      <th>2</th>\n",
       "      <td>-0.367313</td>\n",
       "      <td>-0.963599</td>\n",
       "    </tr>\n",
       "    <tr>\n",
       "      <th>3</th>\n",
       "      <td>0.060337</td>\n",
       "      <td>-0.689714</td>\n",
       "    </tr>\n",
       "    <tr>\n",
       "      <th>4</th>\n",
       "      <td>-0.909047</td>\n",
       "      <td>-1.043812</td>\n",
       "    </tr>\n",
       "  </tbody>\n",
       "</table>\n",
       "</div>"
      ],
      "text/plain": [
       "          X         Y\n",
       "0 -0.852911 -1.323541\n",
       "1  0.818232 -0.602689\n",
       "2 -0.367313 -0.963599\n",
       "3  0.060337 -0.689714\n",
       "4 -0.909047 -1.043812"
      ]
     },
     "execution_count": 2,
     "metadata": {},
     "output_type": "execute_result"
    }
   ],
   "source": [
    "n_sampling = 100\n",
    "rng = np.random.default_rng()                              # creating Numpy-generator object\n",
    "X = rng.normal(loc=0.0, scale=1.0, size=n_sampling)        # X-vector with std-norm-distribution\n",
    "eps = rng.normal(loc=0.0, scale=0.25, size=n_sampling)     # epsilon-vector with narrow norm-distribution\n",
    "Y = -1 + 0.5*X + eps                                       # Y-vector, with true nature of f(x) being y = x/2 - 1\n",
    "\n",
    "\n",
    "df_YontoX = pd.DataFrame(\n",
    "    [X,Y],\n",
    "    index=['X','Y']\n",
    ").T\n",
    "\n",
    "df_YontoX.info()\n",
    "\n",
    "df_YontoX.head()"
   ]
  },
  {
   "cell_type": "code",
   "execution_count": 3,
   "id": "ac5ce69f",
   "metadata": {},
   "outputs": [
    {
     "name": "stdout",
     "output_type": "stream",
     "text": [
      "\n",
      "                                                    VISUALIZATION OF GENERATED DATA:\n"
     ]
    },
    {
     "data": {
      "image/png": "[encoded data removed]",
      "text/plain": [
       "<Figure size 1440x432 with 2 Axes>"
      ]
     },
     "metadata": {
      "needs_background": "light"
     },
     "output_type": "display_data"
    }
   ],
   "source": [
    "plt.figure(figsize=(20,6))\n",
    "ax1 = plt.subplot(1,2,1)\n",
    "ax2 = plt.subplot(1,2,2)\n",
    "\n",
    "\n",
    "sns.histplot(data=df_YontoX, x='X', stat='count', bins=[-4+i/4 for i in range(33)], \n",
    "             element='step', kde=False, color='blue', alpha=0.3, ax=ax1)\n",
    "sns.histplot(data=df_YontoX, x='Y', stat='count', bins=[-4+i/4 for i in range(33)], \n",
    "             element='step', kde=False, color='red', alpha=0.3, ax=ax1)\n",
    "\n",
    "ax1.axvline(x=df_YontoX['X'].mean(), color='blue', label='mean of X = '+str(round(df_YontoX['X'].mean(),4)))\n",
    "ax1.axvline(x=df_YontoX['Y'].mean(), color='red', label='mean of Y = '+str(round(df_YontoX['Y'].mean(),4)))\n",
    "ax1.axvline(x=0, color='black', label='math exp of X = 0.0')\n",
    "ax1.axvline(x=-1, color='black', label='math exp of Y = -1.0')\n",
    "\n",
    "ax1.set_xlabel('value')\n",
    "ax1.set_ylabel(\"N of parameter's samples per 0.25 step of value\")\n",
    "ax1.set_xticks([-4+i for i in range(9)])\n",
    "ax1.set_xlim(-4,4)\n",
    "ax1.legend()\n",
    "ax1.grid()\n",
    "\n",
    "sns.scatterplot(data=df_YontoX, x='X', y='Y', ax=ax2)\n",
    "ax2.plot([-4,0,4], [-3,-1,1], color='green', label='true f(x): y=x/2-1')\n",
    "\n",
    "ax2.axvline(x=0, color='black')\n",
    "ax2.axhline(y=0, color='black')\n",
    "\n",
    "ax2.set_xlim(-4,4)\n",
    "ax2.set_ylim(-3,1)\n",
    "ax2.legend()\n",
    "ax2.grid()\n",
    "\n",
    "print('\\n', ' '*50, 'VISUALIZATION OF GENERATED DATA:')\n",
    "plt.show()"
   ]
  },
  {
   "cell_type": "markdown",
   "id": "edd07f08",
   "metadata": {},
   "source": [
    "## Conclusions:\n",
    "1. The \"true (hidden)\" nature of dependence $Y=f(X)$ is linear with $\\beta_0 = -1$ and $\\beta_1 = 0.5$.\n",
    "2. The number of sampling is too small for actually two degrees of freedom - the $X$ and the $\\epsilon$ vectors, so the normal distribitions are hard to be noticed behind the plots.\n",
    "3. Applying the rule of the thumb for normality we would need at least 30 sampling for one degree of freedom, that is to see the mormality of distributions we would have to generate about 30\\*30=900 samples instead of only 100.  It is easy to check having changed the parameter `n_sampling` in the code above!"
   ]
  },
  {
   "cell_type": "markdown",
   "id": "902f66a8",
   "metadata": {},
   "source": [
    "# Functions for used statistical formulas"
   ]
  },
  {
   "cell_type": "code",
   "execution_count": 4,
   "id": "be6f664d",
   "metadata": {},
   "outputs": [],
   "source": [
    "def slope_sample(df):\n",
    "    x_mean = df['X'].mean()\n",
    "    y_mean = df['X'].mean()\n",
    "    \n",
    "    return ( (df['X']-x_mean) * (df['Y']-y_mean) ).sum() / ( (df['X']-x_mean) * (df['X']-x_mean) ).sum()\n",
    "\n",
    "def intercept_sample(df):\n",
    "    return df['Y'].mean() - df['X'].mean() * slope_sample(df)\n",
    "\n",
    "def TSS(df,col):\n",
    "    return ( ( df[col] - df[col].mean() ) * ( df[col] - df[col].mean() ) ).sum()\n",
    "\n",
    "def RSS(df):\n",
    "    return TSS(df,'Y') * (1 - df.corr().iloc[0,1]**2  )\n",
    "\n",
    "def std_intercept_sample(df):\n",
    "    disp = RSS(df) / (len(df) - 2) * (1/len(df) + df['X'].mean()**2 / TSS(df,'X'))\n",
    "    return math.sqrt(disp)\n",
    "    \n",
    "def std_slope_sample(df):\n",
    "    disp = RSS(df) / (len(df) - 2) / TSS(df,'X')\n",
    "    return math.sqrt(disp)\n",
    "\n",
    "def p_value(t_stat, len_df):\n",
    "    return statmath.t.sf(abs(t_stat), len_df)*2"
   ]
  },
  {
   "cell_type": "markdown",
   "id": "8f733605",
   "metadata": {},
   "source": [
    "# item e: simple linear regression of `Y` onto `X` (SLR):"
   ]
  },
  {
   "cell_type": "code",
   "execution_count": 5,
   "id": "bf931e34",
   "metadata": {},
   "outputs": [
    {
     "name": "stdout",
     "output_type": "stream",
     "text": [
      "\n",
      "With the sampling = 100 we can observe the following figures:\n",
      "--------------------------------------------------\n",
      "Mean squared error  = 0.05484932129687132\n",
      "R2 statistics score = 0.8156242368241913\n",
      "\n",
      "Intercept in true f(x)                       = -1.0\n",
      "Intercept in SLR-model on generated dataset  = -1.006075442998862\n",
      "Intercept by analytical formulas for min RSS = -1.0060754429988623\n",
      "\n",
      "Slope in true f(x)                        = 0.5\n",
      "Slope in SLR-model on generated dataset   = 0.4717847408948416\n",
      "Slope by analytical formulas for min RSS  = 0.4717847408948417\n",
      "\n",
      "p-value for Ho: intercept = -1.0 is: 0.7988693021804663\n",
      "p-value for Ho: slope     =  0.5 is: 0.2159606446869404\n"
     ]
    }
   ],
   "source": [
    "SLR_model_obj_YontoX = linear_model.LinearRegression()  # creating Sklearn-object for SLR-model\n",
    "SLR_model_obj_YontoX.fit(X.reshape(-1, 1),Y)            # training SLR-model on the generated dataset\n",
    "\n",
    "# output of SLR model parameters trained on generated dataset:\n",
    "\n",
    "print('\\nWith the sampling =', n_sampling, 'we can observe the following figures:')\n",
    "print('-'*50)\n",
    "print( 'Mean squared error  =', mean_squared_error(Y, SLR_model_obj_YontoX.predict(X.reshape(-1, 1))))\n",
    "print( 'R2 statistics score =', r2_score(Y, SLR_model_obj_YontoX.predict(X.reshape(-1, 1))))\n",
    "print()\n",
    "print( 'Intercept in true f(x)                       = -1.0')\n",
    "print( 'Intercept in SLR-model on generated dataset  =', beta_0 := SLR_model_obj_YontoX.intercept_ )\n",
    "print( 'Intercept by analytical formulas for min RSS =', intercept_sample(df_YontoX) )\n",
    "print()\n",
    "print( 'Slope in true f(x)                        = 0.5')\n",
    "print( 'Slope in SLR-model on generated dataset   =', beta_1 := SLR_model_obj_YontoX.coef_[0] )\n",
    "print( 'Slope by analytical formulas for min RSS  =', slope_sample(df_YontoX) )\n",
    "print()\n",
    "print( 'p-value for Ho: intercept = -1.0 is:', p_value( abs( beta_0 + 1.0 ) / std_intercept_sample(df_YontoX), \n",
    "                                                        len(df_YontoX)) )\n",
    "print( 'p-value for Ho: slope     =  0.5 is:', p_value( abs( beta_1 - 0.5 ) / std_slope_sample(df_YontoX), \n",
    "                                                        len(df_YontoX)) )\n"
   ]
  },
  {
   "cell_type": "markdown",
   "id": "098c1322",
   "metadata": {},
   "source": [
    "## Conclusions:\n",
    "1. There are no statistically powerful evidences in the current sampling against Zero hypothesys:\n",
    " * $H_0\\, : \\,\\, \\hat\\beta_0 = \\beta_0 = -1.0$ ,\n",
    " * $H_0\\, : \\,\\, \\hat\\beta_1 = \\beta_1 = 0.5$ .\n",
    "2. This keeps for bigger sampling too - we know why: because all residual $\\epsilon$ are on Y-side.\n",
    "3. But based on investigations done for exercises 11 and 12, we know that if the X-sampling had a statistical component - say because of measurement arbitrary error, then (at some level of `n_sampling`) we could have stated for statistically sure, that $\\hat\\beta_1 < \\beta_1 = 0.5$.  Because in that case bigger than real X-values would have higher leverage for negative residuals than the lower ones for positive residuals, hence the regression line would be less steap than $\\beta_0 = 0.5$, being pulled down by stochastical fluctuations of X-values.\n",
    "3. And in that case most probably it would happen that $\\hat\\beta_0 \\ne \\beta_0 = -1.0\\,$ also.\n",
    "\n",
    "# item f: plot regression line versus true f(x) line on the data plots"
   ]
  },
  {
   "cell_type": "code",
   "execution_count": 6,
   "id": "fcd8537f",
   "metadata": {},
   "outputs": [
    {
     "name": "stdout",
     "output_type": "stream",
     "text": [
      "\n",
      "                                                    VISUALIZATION OF GENERATED DATA:\n"
     ]
    },
    {
     "data": {
      "image/png": "[encoded data removed]",
      "text/plain": [
       "<Figure size 1440x432 with 2 Axes>"
      ]
     },
     "metadata": {
      "needs_background": "light"
     },
     "output_type": "display_data"
    }
   ],
   "source": [
    "plt.figure(figsize=(20,6))\n",
    "ax1 = plt.subplot(1,2,1)\n",
    "ax2 = plt.subplot(1,2,2)\n",
    "\n",
    "\n",
    "sns.histplot(data=df_YontoX, x='X', stat='count', bins=[-4+i/4 for i in range(33)], \n",
    "             element='step', kde=False, color='blue', alpha=0.3, ax=ax1)\n",
    "sns.histplot(data=df_YontoX, x='Y', stat='count', bins=[-4+i/4 for i in range(33)], \n",
    "             element='step', kde=False, color='red', alpha=0.3, ax=ax1)\n",
    "\n",
    "ax1.axvline(x=df_YontoX['X'].mean(), color='blue', label='mean of X = '+str(round(df_YontoX['X'].mean(),4)))\n",
    "ax1.axvline(x=df_YontoX['Y'].mean(), color='red', label='mean of Y = '+str(round(df_YontoX['Y'].mean(),4)))\n",
    "ax1.axvline(x=0, color='black', label='math exp of X = 0.0')\n",
    "ax1.axvline(x=-1, color='black', label='math exp of Y = -1.0')\n",
    "\n",
    "ax1.set_xlabel('value')\n",
    "ax1.set_ylabel(\"N of parameter's samples per 0.25 step of value\")\n",
    "ax1.set_xticks([-4+i for i in range(9)])\n",
    "ax1.set_xlim(-4,4)\n",
    "ax1.legend()\n",
    "ax1.grid()\n",
    "\n",
    "sns.scatterplot(data=df_YontoX, x='X', y='Y', ax=ax2)\n",
    "ax2.plot([-4,0,4], [-3,-1,1], color='green', label='true f(x): y=x/2-1')\n",
    "ax2.plot([-4,0,4], [beta_0-beta_1*4,beta_0,beta_0+beta_1*4], color='red', label='regression line')\n",
    "\n",
    "ax2.axvline(x=0, color='black')\n",
    "ax2.axhline(y=0, color='black')\n",
    "\n",
    "ax2.set_xlim(-4,4)\n",
    "ax2.set_ylim(-3,1)\n",
    "ax2.legend()\n",
    "ax2.grid()\n",
    "\n",
    "print('\\n', ' '*50, 'VISUALIZATION OF GENERATED DATA:')\n",
    "plt.show()"
   ]
  },
  {
   "cell_type": "markdown",
   "id": "9afd7346",
   "metadata": {},
   "source": [
    "# item g: adding quadratic term"
   ]
  },
  {
   "cell_type": "code",
   "execution_count": 7,
   "id": "bbe8ed6d",
   "metadata": {},
   "outputs": [
    {
     "name": "stdout",
     "output_type": "stream",
     "text": [
      "<class 'pandas.core.frame.DataFrame'>\n",
      "RangeIndex: 100 entries, 0 to 99\n",
      "Data columns (total 3 columns):\n",
      " #   Column  Non-Null Count  Dtype  \n",
      "---  ------  --------------  -----  \n",
      " 0   X       100 non-null    float64\n",
      " 1   Y       100 non-null    float64\n",
      " 2   x2      100 non-null    float64\n",
      "dtypes: float64(3)\n",
      "memory usage: 2.5 KB\n"
     ]
    },
    {
     "data": {
      "text/html": [
       "<div>\n",
       "<style scoped>\n",
       "    .dataframe tbody tr th:only-of-type {\n",
       "        vertical-align: middle;\n",
       "    }\n",
       "\n",
       "    .dataframe tbody tr th {\n",
       "        vertical-align: top;\n",
       "    }\n",
       "\n",
       "    .dataframe thead th {\n",
       "        text-align: right;\n",
       "    }\n",
       "</style>\n",
       "<table border=\"1\" class=\"dataframe\">\n",
       "  <thead>\n",
       "    <tr style=\"text-align: right;\">\n",
       "      <th></th>\n",
       "      <th>X</th>\n",
       "      <th>Y</th>\n",
       "      <th>x2</th>\n",
       "    </tr>\n",
       "  </thead>\n",
       "  <tbody>\n",
       "    <tr>\n",
       "      <th>0</th>\n",
       "      <td>-0.852911</td>\n",
       "      <td>-1.323541</td>\n",
       "      <td>0.727457</td>\n",
       "    </tr>\n",
       "    <tr>\n",
       "      <th>1</th>\n",
       "      <td>0.818232</td>\n",
       "      <td>-0.602689</td>\n",
       "      <td>0.669504</td>\n",
       "    </tr>\n",
       "    <tr>\n",
       "      <th>2</th>\n",
       "      <td>-0.367313</td>\n",
       "      <td>-0.963599</td>\n",
       "      <td>0.134919</td>\n",
       "    </tr>\n",
       "    <tr>\n",
       "      <th>3</th>\n",
       "      <td>0.060337</td>\n",
       "      <td>-0.689714</td>\n",
       "      <td>0.003641</td>\n",
       "    </tr>\n",
       "    <tr>\n",
       "      <th>4</th>\n",
       "      <td>-0.909047</td>\n",
       "      <td>-1.043812</td>\n",
       "      <td>0.826366</td>\n",
       "    </tr>\n",
       "  </tbody>\n",
       "</table>\n",
       "</div>"
      ],
      "text/plain": [
       "          X         Y        x2\n",
       "0 -0.852911 -1.323541  0.727457\n",
       "1  0.818232 -0.602689  0.669504\n",
       "2 -0.367313 -0.963599  0.134919\n",
       "3  0.060337 -0.689714  0.003641\n",
       "4 -0.909047 -1.043812  0.826366"
      ]
     },
     "execution_count": 7,
     "metadata": {},
     "output_type": "execute_result"
    }
   ],
   "source": [
    "df_YontoX_x2 = df_YontoX.copy(deep=True)\n",
    "df_YontoX_x2['x2'] = df_YontoX_x2['X']**2\n",
    "\n",
    "df_YontoX_x2.info()\n",
    "df_YontoX_x2.head()"
   ]
  },
  {
   "cell_type": "code",
   "execution_count": 8,
   "id": "acaf4a94",
   "metadata": {},
   "outputs": [
    {
     "name": "stdout",
     "output_type": "stream",
     "text": [
      "\n",
      "With the sampling = 100 we can observe the following figures:\n",
      "--------------------------------------------------\n",
      "Mean squared error with quadratic term = 0.05447426762598912\n",
      "Mean squared error no quadratic term   = 0.05484932129687132\n",
      "\n",
      "R2 statistics score with quadratic term = 0.8168849781636605\n",
      "R2 statistics score no quadratic term   = 0.8156242368241913\n",
      "\n",
      "Intercept in true f(x)                       = -1.0\n",
      "Intercept with quadratic term  = -1.0171485191550729\n",
      "Intercept no quadratic term    = -1.006075442998862\n",
      "\n",
      "Slope in true f(x)                        = 0.5\n",
      "Slope with quadratic term   = 0.4655554991775783\n",
      "Slope no quadratic term     = 0.4717847408948416\n",
      "\n",
      "The quagratic coefficient in true f(x)    = 0.0\n",
      "The quagratic coefficient in MLR-model    = 0.010654065007940174\n"
     ]
    }
   ],
   "source": [
    "X_q = np.array(df_YontoX_x2.drop(columns='Y'))\n",
    "Y_q = np.array(df_YontoX_x2['Y'])\n",
    "\n",
    "MLR_model_obj_YontoX = linear_model.LinearRegression()  # creating Sklearn-object for MLR-model\n",
    "MLR_model_obj_YontoX.fit(X_q,Y_q)                       # training MLR-model on the generated dataset\n",
    "\n",
    "# output of MLR model parameters trained on generated dataset:\n",
    "\n",
    "print('\\nWith the sampling =', n_sampling, 'we can observe the following figures:')\n",
    "print('-'*50)\n",
    "print( 'Mean squared error with quadratic term =', mean_squared_error(Y_q, MLR_model_obj_YontoX.predict(X_q)))\n",
    "print( 'Mean squared error no quadratic term   =', mean_squared_error(Y, SLR_model_obj_YontoX.predict(X.reshape(-1, 1))))\n",
    "print()\n",
    "print( 'R2 statistics score with quadratic term =', r2_score(Y_q, MLR_model_obj_YontoX.predict(X_q)))\n",
    "print( 'R2 statistics score no quadratic term   =', r2_score(Y, SLR_model_obj_YontoX.predict(X.reshape(-1, 1))))\n",
    "print()\n",
    "print( 'Intercept in true f(x)                       = -1.0')\n",
    "print( 'Intercept with quadratic term  =', quad_beta_0 := MLR_model_obj_YontoX.intercept_ )\n",
    "print( 'Intercept no quadratic term    =', beta_0 := SLR_model_obj_YontoX.intercept_ )\n",
    "print()\n",
    "print( 'Slope in true f(x)                        = 0.5')\n",
    "print( 'Slope with quadratic term   =', quad_beta_1 := MLR_model_obj_YontoX.coef_[0] )\n",
    "print( 'Slope no quadratic term     =', beta_1 := SLR_model_obj_YontoX.coef_[0] )\n",
    "print()\n",
    "print( 'The quagratic coefficient in true f(x)    = 0.0')\n",
    "print( 'The quagratic coefficient in MLR-model    =', quad_beta_2 := MLR_model_obj_YontoX.coef_[1] )\n"
   ]
  },
  {
   "cell_type": "markdown",
   "id": "3307460d",
   "metadata": {},
   "source": [
    "## Conclusions:\n",
    "1. Even with so modest sampling we see very low improvement from quadratic term - because the true dependence used in sampling data generations was linear.\n",
    "2. But even this improvement is a false one - it is just the effect of more degree of freedoms allowing to find better fit to a particular sample of data - if we'd generated another sampling and reused the same trained models on it, we would see negative effect of quadratic tern on model metrics too. "
   ]
  },
  {
   "cell_type": "markdown",
   "id": "74e4a840",
   "metadata": {},
   "source": [
    "# item h & i: compare with twice less and twice more noisy data"
   ]
  },
  {
   "cell_type": "code",
   "execution_count": 9,
   "id": "6bff7d88",
   "metadata": {},
   "outputs": [
    {
     "name": "stdout",
     "output_type": "stream",
     "text": [
      "\n",
      "With the sampling = 100 we can observe the following figures:\n",
      "--------------------------------------------------\n",
      "Mean squared error            = 0.05484932129687132\n",
      "Mean squared error less noisy = 0.015747268231926223\n",
      "Mean squared error more noisy = 0.25894887070488887\n",
      "\n",
      "R2 statistics score            = 0.8156242368241913\n",
      "R2 statistics score less noisy = 0.9462479909723487\n",
      "R2 statistics score more noisy = 0.549548252113546\n"
     ]
    }
   ],
   "source": [
    "# less noisy data\n",
    "\n",
    "eps = rng.normal(loc=0.0, scale=0.125, size=n_sampling)       # epsilon-vector with narrow norm-distribution\n",
    "Y_ln = -1 + 0.5*X + eps                                       # Y-vector, with true nature of f(x) being y = x/2 - 1\n",
    "\n",
    "df_YontoX_ln = pd.DataFrame(\n",
    "    [X,Y_ln],\n",
    "    index=['X','Y']\n",
    ").T\n",
    "\n",
    "SLR_model_obj_YontoX_ln = linear_model.LinearRegression()     # creating Sklearn-object for SLR-model\n",
    "SLR_model_obj_YontoX_ln.fit(X.reshape(-1, 1),Y_ln)            # training SLR-model on the generated dataset\n",
    "\n",
    "# more noisy data\n",
    "\n",
    "eps = rng.normal(loc=0.0, scale=0.5, size=n_sampling)         # epsilon-vector with narrow norm-distribution\n",
    "Y_mn = -1 + 0.5*X + eps                                       # Y-vector, with true nature of f(x) being y = x/2 - 1\n",
    "\n",
    "df_YontoX_mn = pd.DataFrame(\n",
    "    [X,Y_mn],\n",
    "    index=['X','Y']\n",
    ").T\n",
    "\n",
    "SLR_model_obj_YontoX_mn = linear_model.LinearRegression()     # creating Sklearn-object for SLR-model\n",
    "SLR_model_obj_YontoX_mn.fit(X.reshape(-1, 1),Y_mn)            # training SLR-model on the generated dataset\n",
    "\n",
    "# output of SLR model parameters trained on generated dataset:\n",
    "\n",
    "print('\\nWith the sampling =', n_sampling, 'we can observe the following figures:')\n",
    "print('-'*50)\n",
    "print( 'Mean squared error            =', mean_squared_error(Y, SLR_model_obj_YontoX.predict(X.reshape(-1, 1))))\n",
    "print( 'Mean squared error less noisy =', mean_squared_error(Y_ln, SLR_model_obj_YontoX_ln.predict(X.reshape(-1, 1))))\n",
    "print( 'Mean squared error more noisy =', mean_squared_error(Y_mn, SLR_model_obj_YontoX_mn.predict(X.reshape(-1, 1))))\n",
    "print()\n",
    "print( 'R2 statistics score            =', r2_score(Y, SLR_model_obj_YontoX.predict(X.reshape(-1, 1))))\n",
    "print( 'R2 statistics score less noisy =', r2_score(Y_ln, SLR_model_obj_YontoX_ln.predict(X.reshape(-1, 1))))\n",
    "print( 'R2 statistics score more noisy =', r2_score(Y_mn, SLR_model_obj_YontoX_mn.predict(X.reshape(-1, 1))))\n"
   ]
  },
  {
   "cell_type": "markdown",
   "id": "849873a5",
   "metadata": {},
   "source": [
    "## Conclusions:\n",
    "As expected the less is stocastic part of Y, the smaller is MSE and the bigger part of Y(X) can be explained by predicted Y-values"
   ]
  },
  {
   "cell_type": "markdown",
   "id": "9255b382",
   "metadata": {},
   "source": [
    "# item j: compare confidence interval\n",
    "confidence interval does not include the residual error range, but we can still expect that the less is stochastical part of Y, the better is model fitting and confidence interval for parameters of the model too"
   ]
  },
  {
   "cell_type": "code",
   "execution_count": 10,
   "id": "1ed8fa19",
   "metadata": {},
   "outputs": [
    {
     "name": "stdout",
     "output_type": "stream",
     "text": [
      "\n",
      "With the sampling = 100 we can observe the following figures:\n",
      "--------------------------------------------------\n",
      "Conf.int. for intercept            = 0.09511822804110043 : from -1.0536345570194123 till -0.9585163289783118\n",
      "Conf.int. for intercept less noisy = 0.0509660216963316 : from -1.0466422039027654 till -0.9956761822064337\n",
      "Conf.int. for intercept more noisy = 0.20667366113983615 : from -1.0776426843851334 till -0.8709690232452973\n",
      "\n",
      "Conf.int. for slope            = 0.09063536705140046 : from 0.42646705736914137 till 0.5193438549153918\n",
      "Conf.int. for slope less noisy = 0.048564025831102024 : from 0.4799992858337614 till 0.5285633116648634\n",
      "Conf.int. for slope more noisy = 0.196933264244281 : from 0.4398662442506143 till 0.6367995084948953\n"
     ]
    }
   ],
   "source": [
    "print('\\nWith the sampling =', n_sampling, 'we can observe the following figures:')\n",
    "print('-'*50)\n",
    "print( 'Conf.int. for intercept            =', 4*std_intercept_sample(df_YontoX), ': from', \n",
    "      SLR_model_obj_YontoX.intercept_ - 2*std_intercept_sample(df_YontoX), 'till',\n",
    "      SLR_model_obj_YontoX.intercept_ + 2*std_intercept_sample(df_YontoX) )\n",
    "print( 'Conf.int. for intercept less noisy =', 4*std_intercept_sample(df_YontoX_ln), ': from', \n",
    "      SLR_model_obj_YontoX_ln.intercept_ - 2*std_intercept_sample(df_YontoX_ln), 'till',\n",
    "      SLR_model_obj_YontoX_ln.intercept_ + 2*std_intercept_sample(df_YontoX_ln) )\n",
    "print( 'Conf.int. for intercept more noisy =', 4*std_intercept_sample(df_YontoX_mn), ': from', \n",
    "      SLR_model_obj_YontoX_mn.intercept_ - 2*std_intercept_sample(df_YontoX_mn), 'till',\n",
    "      SLR_model_obj_YontoX_mn.intercept_ + 2*std_intercept_sample(df_YontoX_mn) )\n",
    "print()\n",
    "print( 'Conf.int. for slope            =', 4*std_slope_sample(df_YontoX), ': from',\n",
    "      SLR_model_obj_YontoX.coef_[0] - 2*std_slope_sample(df_YontoX), 'till',\n",
    "      SLR_model_obj_YontoX.coef_[0] + 2*std_intercept_sample(df_YontoX) )\n",
    "print( 'Conf.int. for slope less noisy =', 4*std_slope_sample(df_YontoX_ln), ': from', \n",
    "      SLR_model_obj_YontoX_ln.coef_[0] - 2*std_slope_sample(df_YontoX_ln), 'till',\n",
    "      SLR_model_obj_YontoX_ln.coef_[0] + 2*std_slope_sample(df_YontoX_ln) )\n",
    "print( 'Conf.int. for slope more noisy =', 4*std_slope_sample(df_YontoX_mn), ': from', \n",
    "      SLR_model_obj_YontoX_mn.coef_[0] - 2*std_slope_sample(df_YontoX_mn), 'till',\n",
    "      SLR_model_obj_YontoX_mn.coef_[0] + 2*std_slope_sample(df_YontoX_mn) )"
   ]
  },
  {
   "cell_type": "markdown",
   "id": "793ac211",
   "metadata": {},
   "source": [
    "# Conclusions:\n",
    "As pre-expected: the less is stochastical part of Y, the better is model fitting and confidence interval for parameters of the model too"
   ]
  },
  {
   "cell_type": "markdown",
   "id": "2944cd69",
   "metadata": {},
   "source": [
    "# <<< END OF DOCUMENT >>>"
   ]
  },
  {
   "cell_type": "code",
   "execution_count": 11,
   "id": "1ece8b6c",
   "metadata": {},
   "outputs": [
    {
     "name": "stdout",
     "output_type": "stream",
     "text": [
      "If you see this line, then run-all-cells command has been executed successfully!\n",
      "Full execution time was 2.3 seconds.  The last run-through of this Notebook was on 2023-01-09 at 23:38:53\n"
     ]
    }
   ],
   "source": [
    "stop_run = dt.datetime.now()\n",
    "print('If you see this line, then run-all-cells command has been executed successfully!')\n",
    "print('Full execution time was', round((stop_run-start_run).total_seconds(),2),'seconds. ',\n",
    "     'The last run-through of this Notebook was on', stop_run.date(), 'at', str(stop_run.time()).split('.')[0] )"
   ]
  }
 ],
 "metadata": {
  "kernelspec": {
   "display_name": "Python 3 (ipykernel)",
   "language": "python",
   "name": "python3"
  },
  "language_info": {
   "codemirror_mode": {
    "name": "ipython",
    "version": 3
   },
   "file_extension": ".py",
   "mimetype": "text/x-python",
   "name": "python",
   "nbconvert_exporter": "python",
   "pygments_lexer": "ipython3",
   "version": "3.9.12"
  },
  "toc": {
   "base_numbering": 1,
   "nav_menu": {},
   "number_sections": true,
   "sideBar": true,
   "skip_h1_title": false,
   "title_cell": "Table of Contents",
   "title_sidebar": "Contents",
   "toc_cell": true,
   "toc_position": {
    "height": "calc(100% - 180px)",
    "left": "10px",
    "top": "150px",
    "width": "337.273px"
   },
   "toc_section_display": true,
   "toc_window_display": true
  }
 },
 "nbformat": 4,
 "nbformat_minor": 5
}
